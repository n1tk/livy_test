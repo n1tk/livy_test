{
 "cells": [
  {
   "cell_type": "code",
   "execution_count": 2,
   "metadata": {},
   "outputs": [],
   "source": [
    "import sys\n",
    "sys.path.insert(0, '../')"
   ]
  },
  {
   "cell_type": "code",
   "execution_count": 3,
   "metadata": {},
   "outputs": [],
   "source": [
    "from livy_submit import livy_api"
   ]
  },
  {
   "cell_type": "code",
   "execution_count": 4,
   "metadata": {},
   "outputs": [],
   "source": [
    "api = livy_api.LivyAPI(server_url='http://ip-172-31-20-241.ec2.internal:8998')"
   ]
  },
  {
   "cell_type": "code",
   "execution_count": 5,
   "metadata": {},
   "outputs": [],
   "source": [
    "archive = '../test/data/pi_runner.zip'"
   ]
  },
  {
   "cell_type": "code",
   "execution_count": 6,
   "metadata": {},
   "outputs": [],
   "source": [
    "from livy_submit import hdfs_api"
   ]
  },
  {
   "cell_type": "code",
   "execution_count": 7,
   "metadata": {},
   "outputs": [],
   "source": [
    "namenode_url = 'http://ip-172-31-20-241.ec2.internal:50070'"
   ]
  },
  {
   "cell_type": "code",
   "execution_count": 8,
   "metadata": {},
   "outputs": [
    {
     "name": "stdout",
     "output_type": "stream",
     "text": [
      "file uploaded to /user/edill/livy-submit-files/a0a4b4_1545504505/pi_runner.zip\n"
     ]
    }
   ],
   "source": [
    "hdfs_path = hdfs_api.upload(archive, namenode_url)"
   ]
  },
  {
   "cell_type": "code",
   "execution_count": 12,
   "metadata": {},
   "outputs": [
    {
     "name": "stdout",
     "output_type": "stream",
     "text": [
      "file uploaded to /user/edill/livy-submit-files/9d9da5_1545504733/pi.py\n"
     ]
    }
   ],
   "source": [
    "run_file = '../test/data/pi.py'\n",
    "run_file_hdfs = hdfs_api.upload(run_file, namenode_url)"
   ]
  },
  {
   "cell_type": "code",
   "execution_count": 13,
   "metadata": {},
   "outputs": [
    {
     "data": {
      "text/plain": [
       "Batch(id=194, appId='None', appInfo={'driverLogUrl': None, 'sparkUiUrl': None}, log='', state='starting')"
      ]
     },
     "execution_count": 13,
     "metadata": {},
     "output_type": "execute_result"
    }
   ],
   "source": [
    "api.submit(name='livy-submit-archives-test', file=run_file_hdfs)#, archives=[hdfs_path])"
   ]
  },
  {
   "cell_type": "code",
   "execution_count": 14,
   "metadata": {},
   "outputs": [
    {
     "data": {
      "text/plain": [
       "'ip-172-31-20-241.ec2.internal'"
      ]
     },
     "execution_count": 14,
     "metadata": {},
     "output_type": "execute_result"
    }
   ],
   "source": [
    "import socket\n",
    "socket.getfqdn()"
   ]
  },
  {
   "cell_type": "code",
   "execution_count": 15,
   "metadata": {},
   "outputs": [],
   "source": [
    "import os"
   ]
  },
  {
   "cell_type": "code",
   "execution_count": 19,
   "metadata": {},
   "outputs": [
    {
     "data": {
      "text/plain": [
       "{'LESS_TERMCAP_mb': '\\x1b[01;31m',\n",
       " 'HOSTNAME': 'ip-172-31-20-241',\n",
       " 'LESS_TERMCAP_md': '\\x1b[01;38;5;208m',\n",
       " 'LESS_TERMCAP_me': '\\x1b[0m',\n",
       " 'SHELL': '/bin/bash',\n",
       " 'TERM': 'xterm-color',\n",
       " 'HISTSIZE': '1000',\n",
       " 'EC2_AMITOOL_HOME': '/opt/aws/amitools/ec2',\n",
       " 'SSH_CLIENT': '97.79.186.2 55575 22',\n",
       " 'CONDA_SHLVL': '2',\n",
       " 'CONDA_PROMPT_MODIFIER': '(livy-submit) ',\n",
       " 'PYTHON_INSTALL_LAYOUT': 'amzn',\n",
       " 'LESS_TERMCAP_ue': '\\x1b[0m',\n",
       " 'SSH_TTY': '/dev/pts/0',\n",
       " 'USER': 'ec2-user',\n",
       " 'LS_COLORS': 'rs=0:di=01;34:ln=01;36:mh=00:pi=40;33:so=01;35:do=01;35:bd=40;33;01:cd=40;33;01:or=40;31;01:mi=01;05;37;41:su=37;41:sg=30;43:ca=30;41:tw=30;42:ow=34;42:st=37;44:ex=01;32:*.tar=01;31:*.tgz=01;31:*.arc=01;31:*.arj=01;31:*.taz=01;31:*.lha=01;31:*.lz4=01;31:*.lzh=01;31:*.lzma=01;31:*.tlz=01;31:*.txz=01;31:*.tzo=01;31:*.t7z=01;31:*.zip=01;31:*.z=01;31:*.Z=01;31:*.dz=01;31:*.gz=01;31:*.lrz=01;31:*.lz=01;31:*.lzo=01;31:*.xz=01;31:*.bz2=01;31:*.bz=01;31:*.tbz=01;31:*.tbz2=01;31:*.tz=01;31:*.deb=01;31:*.rpm=01;31:*.jar=01;31:*.war=01;31:*.ear=01;31:*.sar=01;31:*.rar=01;31:*.alz=01;31:*.ace=01;31:*.zoo=01;31:*.cpio=01;31:*.7z=01;31:*.rz=01;31:*.cab=01;31:*.jpg=01;35:*.jpeg=01;35:*.gif=01;35:*.bmp=01;35:*.pbm=01;35:*.pgm=01;35:*.ppm=01;35:*.tga=01;35:*.xbm=01;35:*.xpm=01;35:*.tif=01;35:*.tiff=01;35:*.png=01;35:*.svg=01;35:*.svgz=01;35:*.mng=01;35:*.pcx=01;35:*.mov=01;35:*.mpg=01;35:*.mpeg=01;35:*.m2v=01;35:*.mkv=01;35:*.webm=01;35:*.ogm=01;35:*.mp4=01;35:*.m4v=01;35:*.mp4v=01;35:*.vob=01;35:*.qt=01;35:*.nuv=01;35:*.wmv=01;35:*.asf=01;35:*.rm=01;35:*.rmvb=01;35:*.flc=01;35:*.avi=01;35:*.fli=01;35:*.flv=01;35:*.gl=01;35:*.dl=01;35:*.xcf=01;35:*.xwd=01;35:*.yuv=01;35:*.cgm=01;35:*.emf=01;35:*.axv=01;35:*.anx=01;35:*.ogv=01;35:*.ogx=01;35:*.aac=01;36:*.au=01;36:*.flac=01;36:*.mid=01;36:*.midi=01;36:*.mka=01;36:*.mp3=01;36:*.mpc=01;36:*.ogg=01;36:*.ra=01;36:*.wav=01;36:*.axa=01;36:*.oga=01;36:*.spx=01;36:*.xspf=01;36:',\n",
       " 'CONDA_EXE': '/home/ec2-user/miniconda/bin/conda',\n",
       " 'EC2_HOME': '/opt/aws/apitools/ec2',\n",
       " 'JPY_PARENT_PID': '3451',\n",
       " 'TMUX': '/mnt/tmp/tmux-500/default,2312,0',\n",
       " 'LESS_TERMCAP_us': '\\x1b[04;38;5;111m',\n",
       " 'CONDA_PREFIX_1': '/home/ec2-user/miniconda',\n",
       " 'MAIL': '/var/spool/mail/ec2-user',\n",
       " 'PATH': '/home/ec2-user/envs/livy-submit/bin:/home/ec2-user/envs/livy-submit/bin:/home/ec2-user/miniconda/bin:/usr/local/bin:/bin:/usr/bin:/usr/local/sbin:/usr/sbin:/sbin:/opt/aws/bin:/home/ec2-user/.local/bin:/home/ec2-user/bin:/opt/aws/bin:/home/ec2-user/.local/bin:/home/ec2-user/bin',\n",
       " 'CONDA_PREFIX': '/home/ec2-user/envs/livy-submit',\n",
       " 'PWD': '/home/ec2-user/notebooks/livy-submit/dev-notebooks',\n",
       " 'JAVA_HOME': '/usr/lib/jvm/java',\n",
       " 'AWS_CLOUDWATCH_HOME': '/opt/aws/apitools/mon',\n",
       " 'LANG': 'en_US.UTF-8',\n",
       " 'TMUX_PANE': '%0',\n",
       " 'HISTCONTROL': 'ignoredups',\n",
       " 'HOME': '/home/ec2-user',\n",
       " 'SHLVL': '2',\n",
       " 'AWS_PATH': '/opt/aws',\n",
       " 'AWS_AUTO_SCALING_HOME': '/opt/aws/apitools/as',\n",
       " 'CONDA_PYTHON_EXE': '/home/ec2-user/miniconda/bin/python',\n",
       " 'LOGNAME': 'ec2-user',\n",
       " 'AWS_ELB_HOME': '/opt/aws/apitools/elb',\n",
       " 'LC_CTYPE': 'en_US.UTF-8',\n",
       " 'SSH_CONNECTION': '97.79.186.2 55575 172.31.20.241 22',\n",
       " 'CONDA_DEFAULT_ENV': 'livy-submit',\n",
       " 'LESSOPEN': '||/usr/bin/lesspipe.sh %s',\n",
       " 'LESS_TERMCAP_se': '\\x1b[0m',\n",
       " 'CLICOLOR': '1',\n",
       " 'PAGER': 'cat',\n",
       " 'GIT_PAGER': 'cat',\n",
       " 'MPLBACKEND': 'module://ipykernel.pylab.backend_inline'}"
      ]
     },
     "execution_count": 19,
     "metadata": {},
     "output_type": "execute_result"
    }
   ],
   "source": [
    "dict(os.environ)"
   ]
  },
  {
   "cell_type": "code",
   "execution_count": null,
   "metadata": {},
   "outputs": [],
   "source": []
  }
 ],
 "metadata": {
  "kernelspec": {
   "display_name": "livy-submit [py3]",
   "language": "python",
   "name": "livy-submit"
  },
  "language_info": {
   "codemirror_mode": {
    "name": "ipython",
    "version": 3
   },
   "file_extension": ".py",
   "mimetype": "text/x-python",
   "name": "python",
   "nbconvert_exporter": "python",
   "pygments_lexer": "ipython3",
   "version": "3.7.1"
  }
 },
 "nbformat": 4,
 "nbformat_minor": 2
}
