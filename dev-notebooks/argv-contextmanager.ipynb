{
 "cells": [
  {
   "cell_type": "code",
   "execution_count": 16,
   "metadata": {},
   "outputs": [],
   "source": [
    "import shlex"
   ]
  },
  {
   "cell_type": "code",
   "execution_count": 22,
   "metadata": {},
   "outputs": [],
   "source": [
    "from contextlib import contextmanager\n",
    "import sys\n",
    "import copy\n",
    "import shlex\n",
    "\n",
    "@contextmanager\n",
    "def sysargv(new_args):\n",
    "    if isinstance(new_args, str):\n",
    "        new_args = shlex.split(new_args)\n",
    "    old_argv = copy.copy(sys.argv)\n",
    "    sys.argv = new_args\n",
    "    yield\n",
    "    sys.argv = old_argv"
   ]
  },
  {
   "cell_type": "code",
   "execution_count": 23,
   "metadata": {},
   "outputs": [],
   "source": [
    "new_args = 'livy -v submit --name \"livy submit test\" --file test/data/pi.py --driver-cores 1'"
   ]
  },
  {
   "cell_type": "code",
   "execution_count": 25,
   "metadata": {},
   "outputs": [
    {
     "name": "stdout",
     "output_type": "stream",
     "text": [
      "['/home/ec2-user/envs/livy-submit/lib/python3.7/site-packages/ipykernel_launcher.py', '-f', '/home/ec2-user/.local/share/jupyter/runtime/kernel-1da8e58f-e320-4f00-93d1-7804b415abfe.json']\n",
      "['livy', '-v', 'submit', '--name', 'livy submit test', '--file', 'test/data/pi.py', '--driver-cores', '1']\n",
      "['/home/ec2-user/envs/livy-submit/lib/python3.7/site-packages/ipykernel_launcher.py', '-f', '/home/ec2-user/.local/share/jupyter/runtime/kernel-1da8e58f-e320-4f00-93d1-7804b415abfe.json']\n"
     ]
    }
   ],
   "source": [
    "import sys\n",
    "print(sys.argv)\n",
    "with sysargv(new_args):\n",
    "    print(sys.argv)\n",
    "    \n",
    "print(sys.argv)"
   ]
  },
  {
   "cell_type": "code",
   "execution_count": null,
   "metadata": {},
   "outputs": [],
   "source": []
  }
 ],
 "metadata": {
  "kernelspec": {
   "display_name": "livy-submit [py3]",
   "language": "python",
   "name": "livy-submit"
  },
  "language_info": {
   "codemirror_mode": {
    "name": "ipython",
    "version": 3
   },
   "file_extension": ".py",
   "mimetype": "text/x-python",
   "name": "python",
   "nbconvert_exporter": "python",
   "pygments_lexer": "ipython3",
   "version": "3.7.1"
  }
 },
 "nbformat": 4,
 "nbformat_minor": 2
}
