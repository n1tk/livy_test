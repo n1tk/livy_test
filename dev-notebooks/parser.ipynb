{
 "cells": [
  {
   "cell_type": "code",
   "execution_count": 3,
   "metadata": {},
   "outputs": [],
   "source": [
    "import argparse\n",
    "from os.path import expanduser"
   ]
  },
  {
   "cell_type": "code",
   "execution_count": 2,
   "metadata": {},
   "outputs": [],
   "source": [
    "def _make_base_parser():\n",
    "    \"\"\"Configure the base parser that the other subcommands will inherit from\n",
    "\n",
    "    Returns\n",
    "    -------\n",
    "    ArgumentParser\n",
    "    \"\"\"\n",
    "    main_parser = argparse.ArgumentParser(\n",
    "        prog='livy-submit',\n",
    "        description=\"CLI for interacting with the Livy REST API\",\n",
    "    )\n",
    "    main_parser.add_argument(\n",
    "        '--conf-file',\n",
    "        action='store',\n",
    "        default=expanduser('~/.livy-submit'),\n",
    "        help=\"The location of the livy submit configuration file\"\n",
    "    )\n",
    "    subparser = main_parser.add_subparsers(\n",
    "        title='Livy CLI subcommands',\n",
    "    )\n",
    "    return main_parser, subparser\n"
   ]
  },
  {
   "cell_type": "code",
   "execution_count": 18,
   "metadata": {},
   "outputs": [],
   "source": [
    "def run_endpoint_info(args):\n",
    "    print(args)\n",
    "    \n",
    "\n",
    "def _make_livy_info_parser(base_parser):\n",
    "    \"\"\"Configure the `livy info` subparser\n",
    "\n",
    "    Parameters\n",
    "    ----------\n",
    "    base_parser\n",
    "\n",
    "    Returns\n",
    "    -------\n",
    "    ArgumentParser\n",
    "    \"\"\"\n",
    "    livy_info_parser = base_parser.add_parser('info')\n",
    "    livy_info_parser.add_argument(\n",
    "        '--short',\n",
    "        action='store_true',\n",
    "        default=False,\n",
    "        help=\"Only show the current status of the job\"\n",
    "    )\n",
    "    livy_info_parser.add_argument(\n",
    "        'batchId',\n",
    "        action='store',\n",
    "        # required=False,\n",
    "        help=\"The Livy batch ID for which you want information\"\n",
    "    )\n",
    "    livy_info_parser.set_defaults(func=run_endpoint_info)\n",
    "    return livy_info_parser"
   ]
  },
  {
   "cell_type": "code",
   "execution_count": 19,
   "metadata": {},
   "outputs": [],
   "source": [
    "def make_parser():\n",
    "    main_parser, subparser = _make_base_parser()\n",
    "    _make_livy_info_parser(subparser)\n",
    "    return main_parser, subparser"
   ]
  },
  {
   "cell_type": "code",
   "execution_count": 29,
   "metadata": {},
   "outputs": [],
   "source": [
    "main_parser, subparser = make_parser()"
   ]
  },
  {
   "cell_type": "code",
   "execution_count": 36,
   "metadata": {},
   "outputs": [
    {
     "name": "stdout",
     "output_type": "stream",
     "text": [
      "Namespace(batchId='123', conf_file='/Users/edill/.livy-submit', func=<function run_endpoint_info at 0x1110efe18>, short=True)\n"
     ]
    }
   ],
   "source": [
    "args = main_parser.parse_args(['info', '123', '--short'])\n",
    "args.func(args)"
   ]
  },
  {
   "cell_type": "code",
   "execution_count": null,
   "metadata": {},
   "outputs": [],
   "source": []
  },
  {
   "cell_type": "markdown",
   "metadata": {},
   "source": [
    "## Expected user input for `livy info`\n",
    "`$ livy info`\n",
    "\n",
    "`$ livy info --short`\n",
    "\n",
    "`$ livy info 123`\n",
    "\n",
    "`$ livy info 123 --short`\n",
    "\n"
   ]
  },
  {
   "cell_type": "code",
   "execution_count": 27,
   "metadata": {},
   "outputs": [],
   "source": [
    "def validate_parser():\n",
    "    main_parser, subparser = make_parser()"
   ]
  },
  {
   "cell_type": "code",
   "execution_count": 24,
   "metadata": {},
   "outputs": [],
   "source": [
    "livy_info_parser = subparser.add_parser('info')\n"
   ]
  },
  {
   "cell_type": "code",
   "execution_count": 41,
   "metadata": {},
   "outputs": [
    {
     "name": "stdout",
     "output_type": "stream",
     "text": [
      "usage: livy-submit [-h] [--conf-file CONF_FILE] {info} ...\n",
      "\n",
      "CLI for interacting with the Livy REST API\n",
      "\n",
      "optional arguments:\n",
      "  -h, --help            show this help message and exit\n",
      "  --conf-file CONF_FILE\n",
      "                        The location of the livy submit configuration file\n",
      "\n",
      "Livy CLI subcommands:\n",
      "  {info}\n"
     ]
    },
    {
     "ename": "SystemExit",
     "evalue": "0",
     "output_type": "error",
     "traceback": [
      "An exception has occurred, use %tb to see the full traceback.\n",
      "\u001b[0;31mSystemExit\u001b[0m\u001b[0;31m:\u001b[0m 0\n"
     ]
    }
   ],
   "source": [
    "main_parser.parse_args(['--help'])"
   ]
  },
  {
   "cell_type": "code",
   "execution_count": 40,
   "metadata": {},
   "outputs": [
    {
     "name": "stdout",
     "output_type": "stream",
     "text": [
      "usage: livy-submit info [-h]\n",
      "\n",
      "optional arguments:\n",
      "  -h, --help  show this help message and exit\n"
     ]
    },
    {
     "ename": "SystemExit",
     "evalue": "0",
     "output_type": "error",
     "traceback": [
      "An exception has occurred, use %tb to see the full traceback.\n",
      "\u001b[0;31mSystemExit\u001b[0m\u001b[0;31m:\u001b[0m 0\n"
     ]
    }
   ],
   "source": [
    "main_parser.parse_args(['info', '--help'])"
   ]
  },
  {
   "cell_type": "code",
   "execution_count": null,
   "metadata": {},
   "outputs": [],
   "source": []
  }
 ],
 "metadata": {
  "kernelspec": {
   "display_name": "base [py3]",
   "language": "python",
   "name": "python3"
  },
  "language_info": {
   "codemirror_mode": {
    "name": "ipython",
    "version": 3
   },
   "file_extension": ".py",
   "mimetype": "text/x-python",
   "name": "python",
   "nbconvert_exporter": "python",
   "pygments_lexer": "ipython3",
   "version": "3.7.1"
  }
 },
 "nbformat": 4,
 "nbformat_minor": 2
}
