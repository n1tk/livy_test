{
 "cells": [
  {
   "cell_type": "code",
   "execution_count": 1,
   "metadata": {},
   "outputs": [],
   "source": [
    "namenode_url = 'http://ec2-3-93-61-21.compute-1.amazonaws.com:50070'"
   ]
  },
  {
   "cell_type": "code",
   "execution_count": 2,
   "metadata": {},
   "outputs": [],
   "source": [
    "from livy_submit.hdfs_api import get_client"
   ]
  },
  {
   "cell_type": "code",
   "execution_count": 3,
   "metadata": {},
   "outputs": [],
   "source": [
    "client = get_client(namenode_url)"
   ]
  },
  {
   "cell_type": "code",
   "execution_count": 5,
   "metadata": {},
   "outputs": [
    {
     "name": "stdout",
     "output_type": "stream",
     "text": [
      "Password for edill@DEMO.ANACONDA.COM: \n"
     ]
    }
   ],
   "source": [
    "!echo anaconda | kinit edill"
   ]
  },
  {
   "cell_type": "code",
   "execution_count": 6,
   "metadata": {},
   "outputs": [
    {
     "data": {
      "text/plain": [
       "['.hiveJars',\n",
       " '.skein',\n",
       " '.sparkStaging',\n",
       " 'airlines',\n",
       " 'airports',\n",
       " 'dask-gateway-hdfs-env.tar.gz',\n",
       " 'example.tar.gz',\n",
       " 'flights',\n",
       " 'flights-parquet',\n",
       " 'flights-parquet-partitioned',\n",
       " 'livy-submit-files']"
      ]
     },
     "execution_count": 6,
     "metadata": {},
     "output_type": "execute_result"
    }
   ],
   "source": [
    "client.list('')"
   ]
  },
  {
   "cell_type": "code",
   "execution_count": null,
   "metadata": {},
   "outputs": [],
   "source": []
  }
 ],
 "metadata": {
  "kernelspec": {
   "display_name": "Python 3 [dev-base]",
   "language": "python",
   "name": "anaconda-project-dev-base-python3"
  },
  "language_info": {
   "codemirror_mode": {
    "name": "ipython",
    "version": 3
   },
   "file_extension": ".py",
   "mimetype": "text/x-python",
   "name": "python",
   "nbconvert_exporter": "python",
   "pygments_lexer": "ipython3",
   "version": "3.7.3"
  }
 },
 "nbformat": 4,
 "nbformat_minor": 2
}
