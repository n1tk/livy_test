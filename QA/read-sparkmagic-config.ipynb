{
 "cells": [
  {
   "cell_type": "code",
   "execution_count": 17,
   "metadata": {},
   "outputs": [],
   "source": [
    "def get_from_sparkmagic_config(config_path):\n",
    "    with open(config_path, 'r') as f:\n",
    "        cfg = json.loads(f.read())\n",
    "    spark_config = cfg.get('session_configs')\n",
    "    livy_server = cfg.get('kernel_python_credentials', {}).get('url')\n",
    "    if livy_server is not None:\n",
    "        url, port = livy_server.rsplit(':', maxsplit=1)\n",
    "    else:\n",
    "        err_str = (\"'kernel_python_credentials' not found in sparkmagic \"\n",
    "                   \"configuration (%s). Unable to automatically determine \"\n",
    "                   \"the location of your Livy server\" % config_path)\n",
    "        print(err_str)\n",
    "        url, port = None, None\n",
    "\n",
    "    return {'spark_config': spark_config, 'livy_url': url, 'livy_port': port}"
   ]
  },
  {
   "cell_type": "code",
   "execution_count": 18,
   "metadata": {},
   "outputs": [],
   "source": [
    "config_path = './config.json'"
   ]
  },
  {
   "cell_type": "code",
   "execution_count": 19,
   "metadata": {},
   "outputs": [
    {
     "name": "stdout",
     "output_type": "stream",
     "text": [
      "'kernel_python_credentials' not found in sparkmagic configuration (./config.json). Unable to automatically determine the location of your Livy server\n"
     ]
    },
    {
     "data": {
      "text/plain": [
       "{'spark_config': {'driverMemory': '1000M', 'executorCores': 2},\n",
       " 'livy_url': None,\n",
       " 'livy_port': None}"
      ]
     },
     "execution_count": 19,
     "metadata": {},
     "output_type": "execute_result"
    }
   ],
   "source": [
    "get_from_sparkmagic_config(config_path)"
   ]
  },
  {
   "cell_type": "code",
   "execution_count": 30,
   "metadata": {},
   "outputs": [],
   "source": [
    "def load_livy_config(config_path):\n",
    "    with open(config_path, 'r') as f:\n",
    "        cfg = json.loads(f.read())\n",
    "    return cfg"
   ]
  },
  {
   "cell_type": "code",
   "execution_count": 35,
   "metadata": {},
   "outputs": [
    {
     "data": {
      "text/plain": [
       "{'namenode_url': 'ip-172-31-20-241.ec2.internal',\n",
       " 'namenode_port': 50070,\n",
       " 'livy_url': 'ip-172-31-20-241.ec2.internal',\n",
       " 'livy_port': 8998,\n",
       " 'use_tls': 'False',\n",
       " 'driverMemory': '4g',\n",
       " 'driverCores': 2,\n",
       " 'executorMemory': '2g',\n",
       " 'executorCores': 1,\n",
       " 'conf': 'spark.pyspark.python'}"
      ]
     },
     "execution_count": 35,
     "metadata": {},
     "output_type": "execute_result"
    }
   ],
   "source": [
    "load_livy_config('livy-submit.json')"
   ]
  },
  {
   "cell_type": "code",
   "execution_count": 46,
   "metadata": {},
   "outputs": [],
   "source": [
    "l = ['spark.pyspark.python=/opt/anaconda/foo']"
   ]
  },
  {
   "cell_type": "code",
   "execution_count": 51,
   "metadata": {},
   "outputs": [
    {
     "data": {
      "text/plain": [
       "{'spark.pyspark.python': '/opt/anaconda/foo'}"
      ]
     },
     "execution_count": 51,
     "metadata": {},
     "output_type": "execute_result"
    }
   ],
   "source": [
    "dict([(_.split('=')) for _ in l])"
   ]
  },
  {
   "cell_type": "code",
   "execution_count": 52,
   "metadata": {},
   "outputs": [],
   "source": [
    "import shlex"
   ]
  },
  {
   "cell_type": "code",
   "execution_count": 55,
   "metadata": {},
   "outputs": [
    {
     "data": {
      "text/plain": [
       "['positional1',\n",
       " 'positional2',\n",
       " '--flagged1',\n",
       " 'var1',\n",
       " '--flagged2',\n",
       " 'var2',\n",
       " '--flagged3',\n",
       " 'var3,var4,var5',\n",
       " '--flagged4',\n",
       " 'var6 var7']"
      ]
     },
     "execution_count": 55,
     "metadata": {},
     "output_type": "execute_result"
    }
   ],
   "source": [
    "shlex.split('positional1 positional2 \\\n",
    "            --flagged1 var1 \\\n",
    "            --flagged2 var2 \\\n",
    "            --flagged3 var3,var4,var5 \\\n",
    "            --flagged4 \"var6 var7\"')"
   ]
  },
  {
   "cell_type": "code",
   "execution_count": 56,
   "metadata": {},
   "outputs": [],
   "source": [
    "import subprocess"
   ]
  },
  {
   "cell_type": "code",
   "execution_count": 60,
   "metadata": {},
   "outputs": [
    {
     "data": {
      "text/plain": [
       "'edill'"
      ]
     },
     "execution_count": 60,
     "metadata": {},
     "output_type": "execute_result"
    }
   ],
   "source": [
    "subprocess.check_output('klist -e | grep Default | cut -d \" \" -f 3 | cut -d \"@\" -f 1 | cut -d \"/\" -f 1', shell=True).decode().strip()"
   ]
  },
  {
   "cell_type": "code",
   "execution_count": 61,
   "metadata": {},
   "outputs": [],
   "source": [
    "a = (1, 2, 3)\n",
    "b = (3, 4, 5)"
   ]
  },
  {
   "cell_type": "code",
   "execution_count": 62,
   "metadata": {},
   "outputs": [
    {
     "data": {
      "text/plain": [
       "(1, 2, 3, 3, 4, 5)"
      ]
     },
     "execution_count": 62,
     "metadata": {},
     "output_type": "execute_result"
    }
   ],
   "source": [
    "a + b"
   ]
  },
  {
   "cell_type": "code",
   "execution_count": 63,
   "metadata": {},
   "outputs": [],
   "source": [
    "a = [1, 2, 3]\n",
    "b = [4, 5, 6]"
   ]
  },
  {
   "cell_type": "code",
   "execution_count": 65,
   "metadata": {},
   "outputs": [
    {
     "data": {
      "text/plain": [
       "[1, 2, 3, 4, 5, 6]"
      ]
     },
     "execution_count": 65,
     "metadata": {},
     "output_type": "execute_result"
    }
   ],
   "source": [
    "a + b"
   ]
  },
  {
   "cell_type": "code",
   "execution_count": 70,
   "metadata": {},
   "outputs": [],
   "source": [
    "a = {1: 'a', 2: 'b', 3: {'a': 1}}\n",
    "b = {2: 'c', 3: {'b': 2}}"
   ]
  },
  {
   "cell_type": "code",
   "execution_count": 71,
   "metadata": {},
   "outputs": [
    {
     "data": {
      "text/plain": [
       "{1: 'a', 2: 'c', 3: {'b': 2}}"
      ]
     },
     "execution_count": 71,
     "metadata": {},
     "output_type": "execute_result"
    }
   ],
   "source": [
    "a.update(b)\n",
    "a"
   ]
  },
  {
   "cell_type": "code",
   "execution_count": null,
   "metadata": {},
   "outputs": [],
   "source": []
  }
 ],
 "metadata": {
  "kernelspec": {
   "display_name": "livy-submit [py3]",
   "language": "python",
   "name": "livy-submit"
  },
  "language_info": {
   "codemirror_mode": {
    "name": "ipython",
    "version": 3
   },
   "file_extension": ".py",
   "mimetype": "text/x-python",
   "name": "python",
   "nbconvert_exporter": "python",
   "pygments_lexer": "ipython3",
   "version": "3.7.1"
  }
 },
 "nbformat": 4,
 "nbformat_minor": 2
}
